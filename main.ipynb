{
 "cells": [
  {
   "cell_type": "code",
   "execution_count": 129,
   "metadata": {},
   "outputs": [],
   "source": [
    "import random\n",
    "import pandas as pd\n",
    "import math"
   ]
  },
  {
   "cell_type": "code",
   "execution_count": 130,
   "metadata": {},
   "outputs": [
    {
     "data": {
      "text/html": [
       "<div>\n",
       "<style scoped>\n",
       "    .dataframe tbody tr th:only-of-type {\n",
       "        vertical-align: middle;\n",
       "    }\n",
       "\n",
       "    .dataframe tbody tr th {\n",
       "        vertical-align: top;\n",
       "    }\n",
       "\n",
       "    .dataframe thead th {\n",
       "        text-align: right;\n",
       "    }\n",
       "</style>\n",
       "<table border=\"1\" class=\"dataframe\">\n",
       "  <thead>\n",
       "    <tr style=\"text-align: right;\">\n",
       "      <th></th>\n",
       "      <th>DAY_OF_WEEK</th>\n",
       "      <th>OP_CARRIER_AIRLINE_ID</th>\n",
       "      <th>OP_CARRIER_FL_NUM</th>\n",
       "      <th>ORIGIN_AIRPORT_SEQ_ID</th>\n",
       "      <th>ORIGIN_CITY_MARKET_ID</th>\n",
       "      <th>DEST_AIRPORT_SEQ_ID</th>\n",
       "      <th>DEST_CITY_MARKET_ID</th>\n",
       "      <th>CRS_DEP_TIME</th>\n",
       "      <th>DEP_DELAY</th>\n",
       "      <th>Unnamed: 9</th>\n",
       "    </tr>\n",
       "  </thead>\n",
       "  <tbody>\n",
       "    <tr>\n",
       "      <th>132960</th>\n",
       "      <td>2</td>\n",
       "      <td>20304</td>\n",
       "      <td>3567</td>\n",
       "      <td>1163703</td>\n",
       "      <td>31637</td>\n",
       "      <td>1348702</td>\n",
       "      <td>31650</td>\n",
       "      <td>912</td>\n",
       "      <td>80.0</td>\n",
       "      <td>NaN</td>\n",
       "    </tr>\n",
       "    <tr>\n",
       "      <th>244306</th>\n",
       "      <td>3</td>\n",
       "      <td>19790</td>\n",
       "      <td>395</td>\n",
       "      <td>1486903</td>\n",
       "      <td>34614</td>\n",
       "      <td>1457002</td>\n",
       "      <td>34570</td>\n",
       "      <td>2041</td>\n",
       "      <td>-1.0</td>\n",
       "      <td>NaN</td>\n",
       "    </tr>\n",
       "    <tr>\n",
       "      <th>209769</th>\n",
       "      <td>3</td>\n",
       "      <td>20397</td>\n",
       "      <td>5394</td>\n",
       "      <td>1410005</td>\n",
       "      <td>34100</td>\n",
       "      <td>1199603</td>\n",
       "      <td>31871</td>\n",
       "      <td>1755</td>\n",
       "      <td>-1.0</td>\n",
       "      <td>NaN</td>\n",
       "    </tr>\n",
       "    <tr>\n",
       "      <th>173275</th>\n",
       "      <td>3</td>\n",
       "      <td>20363</td>\n",
       "      <td>5381</td>\n",
       "      <td>1195302</td>\n",
       "      <td>31953</td>\n",
       "      <td>1039707</td>\n",
       "      <td>30397</td>\n",
       "      <td>1005</td>\n",
       "      <td>-2.0</td>\n",
       "      <td>NaN</td>\n",
       "    </tr>\n",
       "    <tr>\n",
       "      <th>280208</th>\n",
       "      <td>4</td>\n",
       "      <td>20397</td>\n",
       "      <td>5060</td>\n",
       "      <td>1412202</td>\n",
       "      <td>30198</td>\n",
       "      <td>1105703</td>\n",
       "      <td>31057</td>\n",
       "      <td>1015</td>\n",
       "      <td>-3.0</td>\n",
       "      <td>NaN</td>\n",
       "    </tr>\n",
       "    <tr>\n",
       "      <th>52262</th>\n",
       "      <td>1</td>\n",
       "      <td>19790</td>\n",
       "      <td>667</td>\n",
       "      <td>1042302</td>\n",
       "      <td>30423</td>\n",
       "      <td>1474703</td>\n",
       "      <td>30559</td>\n",
       "      <td>620</td>\n",
       "      <td>6.0</td>\n",
       "      <td>NaN</td>\n",
       "    </tr>\n",
       "    <tr>\n",
       "      <th>149640</th>\n",
       "      <td>2</td>\n",
       "      <td>19790</td>\n",
       "      <td>2982</td>\n",
       "      <td>1501606</td>\n",
       "      <td>31123</td>\n",
       "      <td>1039707</td>\n",
       "      <td>30397</td>\n",
       "      <td>1550</td>\n",
       "      <td>3.0</td>\n",
       "      <td>NaN</td>\n",
       "    </tr>\n",
       "    <tr>\n",
       "      <th>192502</th>\n",
       "      <td>3</td>\n",
       "      <td>20363</td>\n",
       "      <td>5078</td>\n",
       "      <td>1058102</td>\n",
       "      <td>30581</td>\n",
       "      <td>1295304</td>\n",
       "      <td>31703</td>\n",
       "      <td>730</td>\n",
       "      <td>31.0</td>\n",
       "      <td>NaN</td>\n",
       "    </tr>\n",
       "    <tr>\n",
       "      <th>251180</th>\n",
       "      <td>3</td>\n",
       "      <td>19790</td>\n",
       "      <td>2132</td>\n",
       "      <td>1039707</td>\n",
       "      <td>30397</td>\n",
       "      <td>1449202</td>\n",
       "      <td>34492</td>\n",
       "      <td>1138</td>\n",
       "      <td>-1.0</td>\n",
       "      <td>NaN</td>\n",
       "    </tr>\n",
       "    <tr>\n",
       "      <th>225259</th>\n",
       "      <td>3</td>\n",
       "      <td>19393</td>\n",
       "      <td>848</td>\n",
       "      <td>1080003</td>\n",
       "      <td>32575</td>\n",
       "      <td>1477104</td>\n",
       "      <td>32457</td>\n",
       "      <td>1020</td>\n",
       "      <td>186.0</td>\n",
       "      <td>NaN</td>\n",
       "    </tr>\n",
       "  </tbody>\n",
       "</table>\n",
       "</div>"
      ],
      "text/plain": [
       "        DAY_OF_WEEK  OP_CARRIER_AIRLINE_ID  OP_CARRIER_FL_NUM  \\\n",
       "132960            2                  20304               3567   \n",
       "244306            3                  19790                395   \n",
       "209769            3                  20397               5394   \n",
       "173275            3                  20363               5381   \n",
       "280208            4                  20397               5060   \n",
       "52262             1                  19790                667   \n",
       "149640            2                  19790               2982   \n",
       "192502            3                  20363               5078   \n",
       "251180            3                  19790               2132   \n",
       "225259            3                  19393                848   \n",
       "\n",
       "        ORIGIN_AIRPORT_SEQ_ID  ORIGIN_CITY_MARKET_ID  DEST_AIRPORT_SEQ_ID  \\\n",
       "132960                1163703                  31637              1348702   \n",
       "244306                1486903                  34614              1457002   \n",
       "209769                1410005                  34100              1199603   \n",
       "173275                1195302                  31953              1039707   \n",
       "280208                1412202                  30198              1105703   \n",
       "52262                 1042302                  30423              1474703   \n",
       "149640                1501606                  31123              1039707   \n",
       "192502                1058102                  30581              1295304   \n",
       "251180                1039707                  30397              1449202   \n",
       "225259                1080003                  32575              1477104   \n",
       "\n",
       "        DEST_CITY_MARKET_ID  CRS_DEP_TIME  DEP_DELAY  Unnamed: 9  \n",
       "132960                31650           912       80.0         NaN  \n",
       "244306                34570          2041       -1.0         NaN  \n",
       "209769                31871          1755       -1.0         NaN  \n",
       "173275                30397          1005       -2.0         NaN  \n",
       "280208                31057          1015       -3.0         NaN  \n",
       "52262                 30559           620        6.0         NaN  \n",
       "149640                30397          1550        3.0         NaN  \n",
       "192502                31703           730       31.0         NaN  \n",
       "251180                34492          1138       -1.0         NaN  \n",
       "225259                32457          1020      186.0         NaN  "
      ]
     },
     "execution_count": 130,
     "metadata": {},
     "output_type": "execute_result"
    }
   ],
   "source": [
    "data = pd.read_csv(\"690103346_T_ONTIME_REPORTING.csv\")\n",
    "data.sample(10)"
   ]
  },
  {
   "cell_type": "code",
   "execution_count": 131,
   "metadata": {},
   "outputs": [
    {
     "data": {
      "text/plain": [
       "16355"
      ]
     },
     "execution_count": 131,
     "metadata": {},
     "output_type": "execute_result"
    }
   ],
   "source": [
    "data['DEP_DELAY'].isna().sum()"
   ]
  },
  {
   "cell_type": "code",
   "execution_count": 132,
   "metadata": {},
   "outputs": [
    {
     "name": "stdout",
     "output_type": "stream",
     "text": [
      "(583985, 10)\n"
     ]
    },
    {
     "data": {
      "text/plain": [
       "(567630, 10)"
      ]
     },
     "execution_count": 132,
     "metadata": {},
     "output_type": "execute_result"
    }
   ],
   "source": [
    "print(data.shape)\n",
    "data = data.loc[~data['DEP_DELAY'].isna()]\n",
    "data.shape"
   ]
  },
  {
   "cell_type": "code",
   "execution_count": 133,
   "metadata": {},
   "outputs": [
    {
     "name": "stdout",
     "output_type": "stream",
     "text": [
      "(567630, 10)\n"
     ]
    },
    {
     "data": {
      "text/plain": [
       "(533272, 10)"
      ]
     },
     "execution_count": 133,
     "metadata": {},
     "output_type": "execute_result"
    }
   ],
   "source": [
    "print(data.shape)\n",
    "data = data.drop_duplicates()\n",
    "data.shape"
   ]
  },
  {
   "cell_type": "code",
   "execution_count": 134,
   "metadata": {},
   "outputs": [
    {
     "name": "stdout",
     "output_type": "stream",
     "text": [
      "<class 'pandas.core.frame.DataFrame'>\n",
      "Int64Index: 533272 entries, 0 to 583983\n",
      "Data columns (total 10 columns):\n",
      " #   Column                 Non-Null Count   Dtype  \n",
      "---  ------                 --------------   -----  \n",
      " 0   DAY_OF_WEEK            533272 non-null  int64  \n",
      " 1   OP_CARRIER_AIRLINE_ID  533272 non-null  int64  \n",
      " 2   OP_CARRIER_FL_NUM      533272 non-null  int64  \n",
      " 3   ORIGIN_AIRPORT_SEQ_ID  533272 non-null  int64  \n",
      " 4   ORIGIN_CITY_MARKET_ID  533272 non-null  int64  \n",
      " 5   DEST_AIRPORT_SEQ_ID    533272 non-null  int64  \n",
      " 6   DEST_CITY_MARKET_ID    533272 non-null  int64  \n",
      " 7   CRS_DEP_TIME           533272 non-null  int64  \n",
      " 8   DEP_DELAY              533272 non-null  float64\n",
      " 9   Unnamed: 9             0 non-null       float64\n",
      "dtypes: float64(2), int64(8)\n",
      "memory usage: 44.8 MB\n"
     ]
    }
   ],
   "source": [
    "data.info()"
   ]
  },
  {
   "cell_type": "code",
   "execution_count": 135,
   "metadata": {},
   "outputs": [
    {
     "data": {
      "text/plain": [
       "DAY_OF_WEEK                   0\n",
       "OP_CARRIER_AIRLINE_ID         0\n",
       "OP_CARRIER_FL_NUM             0\n",
       "ORIGIN_AIRPORT_SEQ_ID         0\n",
       "ORIGIN_CITY_MARKET_ID         0\n",
       "DEST_AIRPORT_SEQ_ID           0\n",
       "DEST_CITY_MARKET_ID           0\n",
       "CRS_DEP_TIME                  0\n",
       "DEP_DELAY                     0\n",
       "Unnamed: 9               533272\n",
       "dtype: int64"
      ]
     },
     "execution_count": 135,
     "metadata": {},
     "output_type": "execute_result"
    }
   ],
   "source": [
    "data.isna().sum(axis=0)"
   ]
  },
  {
   "cell_type": "code",
   "execution_count": 136,
   "metadata": {},
   "outputs": [],
   "source": [
    "data = data.iloc[:, :-1]\n",
    "y = data['DEP_DELAY']\n",
    "X = data.drop(columns=['DEP_DELAY'])\n",
    "X = X.values.tolist()"
   ]
  },
  {
   "cell_type": "code",
   "execution_count": 137,
   "metadata": {},
   "outputs": [
    {
     "data": {
      "text/html": [
       "<div>\n",
       "<style scoped>\n",
       "    .dataframe tbody tr th:only-of-type {\n",
       "        vertical-align: middle;\n",
       "    }\n",
       "\n",
       "    .dataframe tbody tr th {\n",
       "        vertical-align: top;\n",
       "    }\n",
       "\n",
       "    .dataframe thead th {\n",
       "        text-align: right;\n",
       "    }\n",
       "</style>\n",
       "<table border=\"1\" class=\"dataframe\">\n",
       "  <thead>\n",
       "    <tr style=\"text-align: right;\">\n",
       "      <th></th>\n",
       "      <th>DAY_OF_WEEK</th>\n",
       "      <th>OP_CARRIER_AIRLINE_ID</th>\n",
       "      <th>OP_CARRIER_FL_NUM</th>\n",
       "      <th>ORIGIN_AIRPORT_SEQ_ID</th>\n",
       "      <th>ORIGIN_CITY_MARKET_ID</th>\n",
       "      <th>DEST_AIRPORT_SEQ_ID</th>\n",
       "      <th>DEST_CITY_MARKET_ID</th>\n",
       "      <th>CRS_DEP_TIME</th>\n",
       "      <th>DEP_DELAY</th>\n",
       "    </tr>\n",
       "  </thead>\n",
       "  <tbody>\n",
       "    <tr>\n",
       "      <th>0</th>\n",
       "      <td>1</td>\n",
       "      <td>20363</td>\n",
       "      <td>3280</td>\n",
       "      <td>1039707</td>\n",
       "      <td>30397</td>\n",
       "      <td>1115005</td>\n",
       "      <td>31150</td>\n",
       "      <td>1645</td>\n",
       "      <td>-5.0</td>\n",
       "    </tr>\n",
       "    <tr>\n",
       "      <th>1</th>\n",
       "      <td>1</td>\n",
       "      <td>20363</td>\n",
       "      <td>3280</td>\n",
       "      <td>1039707</td>\n",
       "      <td>30397</td>\n",
       "      <td>1115005</td>\n",
       "      <td>31150</td>\n",
       "      <td>1645</td>\n",
       "      <td>-6.0</td>\n",
       "    </tr>\n",
       "    <tr>\n",
       "      <th>2</th>\n",
       "      <td>1</td>\n",
       "      <td>20363</td>\n",
       "      <td>3280</td>\n",
       "      <td>1039707</td>\n",
       "      <td>30397</td>\n",
       "      <td>1115005</td>\n",
       "      <td>31150</td>\n",
       "      <td>1645</td>\n",
       "      <td>-4.0</td>\n",
       "    </tr>\n",
       "    <tr>\n",
       "      <th>4</th>\n",
       "      <td>1</td>\n",
       "      <td>20363</td>\n",
       "      <td>3280</td>\n",
       "      <td>1115005</td>\n",
       "      <td>31150</td>\n",
       "      <td>1039707</td>\n",
       "      <td>30397</td>\n",
       "      <td>1803</td>\n",
       "      <td>-20.0</td>\n",
       "    </tr>\n",
       "    <tr>\n",
       "      <th>5</th>\n",
       "      <td>1</td>\n",
       "      <td>20363</td>\n",
       "      <td>3280</td>\n",
       "      <td>1115005</td>\n",
       "      <td>31150</td>\n",
       "      <td>1039707</td>\n",
       "      <td>30397</td>\n",
       "      <td>1803</td>\n",
       "      <td>-13.0</td>\n",
       "    </tr>\n",
       "  </tbody>\n",
       "</table>\n",
       "</div>"
      ],
      "text/plain": [
       "   DAY_OF_WEEK  OP_CARRIER_AIRLINE_ID  OP_CARRIER_FL_NUM  \\\n",
       "0            1                  20363               3280   \n",
       "1            1                  20363               3280   \n",
       "2            1                  20363               3280   \n",
       "4            1                  20363               3280   \n",
       "5            1                  20363               3280   \n",
       "\n",
       "   ORIGIN_AIRPORT_SEQ_ID  ORIGIN_CITY_MARKET_ID  DEST_AIRPORT_SEQ_ID  \\\n",
       "0                1039707                  30397              1115005   \n",
       "1                1039707                  30397              1115005   \n",
       "2                1039707                  30397              1115005   \n",
       "4                1115005                  31150              1039707   \n",
       "5                1115005                  31150              1039707   \n",
       "\n",
       "   DEST_CITY_MARKET_ID  CRS_DEP_TIME  DEP_DELAY  \n",
       "0                31150          1645       -5.0  \n",
       "1                31150          1645       -6.0  \n",
       "2                31150          1645       -4.0  \n",
       "4                30397          1803      -20.0  \n",
       "5                30397          1803      -13.0  "
      ]
     },
     "execution_count": 137,
     "metadata": {},
     "output_type": "execute_result"
    }
   ],
   "source": [
    "data.head()"
   ]
  },
  {
   "cell_type": "code",
   "execution_count": 146,
   "metadata": {},
   "outputs": [],
   "source": [
    "# TODO сделать 2 варианта умножения матрицы и вектора: по правилам перменожения матриц и умножение числа на вектор\n",
    "def multiply(G, v):\n",
    "    result = []\n",
    "    for i in range(len(G[0])):\n",
    "        total = 0\n",
    "        for j in range(len(v)):\n",
    "            total += v[j] * G[j][i]\n",
    "        result.append(total)\n",
    "    return result"
   ]
  },
  {
   "cell_type": "code",
   "execution_count": 139,
   "metadata": {},
   "outputs": [],
   "source": [
    "#класс для нормировки данных\n",
    "class scaler():\n",
    "    def __init__(self):\n",
    "        self.mean = None\n",
    "        self.sigma = None\n",
    "    \n",
    "    def fit_transform(self, X):\n",
    "        n, m = len(X), len(X[0])\n",
    "        if self.mean is None or self.sigma is None:\n",
    "            self.mean = []\n",
    "            self.sigma = []\n",
    "            f = False\n",
    "        else:\n",
    "            f = True\n",
    "        \n",
    "        for i in range(m):\n",
    "            mean = 0\n",
    "            for j in range(n):\n",
    "                mean += X[j][i]\n",
    "            if f:\n",
    "                self.mean[i] = self.mean[i]*0.5 + 0.5*mean/n\n",
    "            else:\n",
    "                self.mean.append(mean/n)\n",
    "        \n",
    "        for i in range(m):\n",
    "            sigma = 0\n",
    "            for j in range(n):\n",
    "                 sigma += (X[j][i] - self.mean[i])**2\n",
    "            if f:\n",
    "                self.sigma[i] = self.sigma[i]*0.5 + 0.5*(sigma/n)**0.5\n",
    "            else:\n",
    "                self.sigma.append((sigma/n)**0.5)\n",
    "        \n",
    "        for i in range(m):\n",
    "            for j in range(n):\n",
    "                X[j][i] = (X[j][i] - self.mean[i])/self.sigma[i]\n",
    "    \n",
    "        return X\n",
    "        \n",
    "    def transform(self, X):\n",
    "        assert self.mean or self.sigma \n",
    "        n, m = len(X), len(X[0])\n",
    "        for i in range(m):\n",
    "            for j in range(n):\n",
    "                X[j][i] = (X[j][i] - self.mean[i])/self.sigma[i]\n",
    "        return X\n",
    "    def get_params(self):\n",
    "        print(self.mean, self.sigma)"
   ]
  },
  {
   "cell_type": "code",
   "execution_count": 140,
   "metadata": {},
   "outputs": [],
   "source": [
    "scaler = scaler()\n",
    "X = scaler.fit_transform(X)"
   ]
  },
  {
   "cell_type": "code",
   "execution_count": 163,
   "metadata": {},
   "outputs": [],
   "source": [
    "class LinearRegression():\n",
    "    def __init__(self, r1=0, r2=0):\n",
    "        self.w = None\n",
    "        self.r1 = r1\n",
    "        self.r2 = r2 \n",
    "        \n",
    "    def predict(self, X):\n",
    "        return multiply(X, self.w)\n",
    "    \n",
    "    def fit(self, X, y, lr=0.01, max_iter=100):\n",
    "        pass\n",
    "    \n",
    "    def loss(y, y_pred):\n",
    "        assert len(y) == len(y_true)\n",
    "        return sum([(i-j)**2 for i, j in zip(y, y_pred)])/len(y)\n",
    "        \n",
    "    def get_weights(self):\n",
    "        return self.w\n",
    "    \n",
    "    def get_losses(self):\n",
    "        return self.losses"
   ]
  },
  {
   "cell_type": "code",
   "execution_count": 187,
   "metadata": {},
   "outputs": [],
   "source": [
    "#Линейная регрессия sgd\n",
    "class SGDLinearRegression(LinearRegression):\n",
    "    \n",
    "    def __init__(self, **kwargs):\n",
    "        super().__init__(**kwargs)\n",
    "    \n",
    "    def fit(self, X, y, n_sample=1, lr=3e-2, max_iter=100):\n",
    "        n, m = len(X), len(X[0])\n",
    "        for i in range(len(X)):\n",
    "            X[i].append(1)\n",
    "            \n",
    "        if self.w is None:\n",
    "            self.w = []\n",
    "            for i in range(m+1):\n",
    "                self.w.append(random.random())\n",
    "        \n",
    "        self.losses = []\n",
    "        for iter_num in range(max_iter):\n",
    "            y_pred = self.predict(X)\n",
    "            #self.losses.append(self.loss(y, y_pred))\n",
    "            grad = self._calc_gradient(X, y, y_pred)\n",
    "            self.w = [w-lr*gr for w, gr in zip(self.w, grad)]\n",
    "        \n",
    "    def _calc_gradient(self, X, y, y_pred):\n",
    "\n",
    "        grad = list(multiply(X,[i-j for i, j in zip(y_pred, y)]))\n",
    "#         print(grad)\n",
    "#         grad = list(map(sum, zip(*grad)))\n",
    "#         grad = [gr/len(X) for gr in grad]\n",
    "        return grad"
   ]
  },
  {
   "cell_type": "code",
   "execution_count": 188,
   "metadata": {},
   "outputs": [],
   "source": [
    "linreg = SGDLinearRegression()\n",
    "linreg.fit(X, y)"
   ]
  },
  {
   "cell_type": "code",
   "execution_count": 191,
   "metadata": {},
   "outputs": [
    {
     "data": {
      "text/plain": [
       "27"
      ]
     },
     "execution_count": 191,
     "metadata": {},
     "output_type": "execute_result"
    }
   ],
   "source": [
    "len(linreg.predict(X))"
   ]
  },
  {
   "cell_type": "code",
   "execution_count": null,
   "metadata": {},
   "outputs": [],
   "source": []
  }
 ],
 "metadata": {
  "kernelspec": {
   "display_name": "Python 3",
   "language": "python",
   "name": "python3"
  },
  "language_info": {
   "codemirror_mode": {
    "name": "ipython",
    "version": 3
   },
   "file_extension": ".py",
   "mimetype": "text/x-python",
   "name": "python",
   "nbconvert_exporter": "python",
   "pygments_lexer": "ipython3",
   "version": "3.8.3"
  }
 },
 "nbformat": 4,
 "nbformat_minor": 4
}
